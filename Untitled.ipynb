{
 "cells": [
  {
   "cell_type": "code",
   "execution_count": 1,
   "metadata": {},
   "outputs": [],
   "source": [
    "import random\n",
    "import numpy as np"
   ]
  },
  {
   "cell_type": "code",
   "execution_count": 4,
   "metadata": {},
   "outputs": [
    {
     "name": "stdout",
     "output_type": "stream",
     "text": [
      "Enter the order of the determinant12\n",
      "[[ 7 10 10  2  9  4  3  7  9  3  8  4]\n",
      " [11  3 10  5  6  0  7  3 11  6 10  7]\n",
      " [ 5 11  3  0  7  2  5  7  4  8  6  0]\n",
      " [ 7  3  1  9  1  0  1  3  9  5  4 11]\n",
      " [ 4  0  7  6 10  3  4  9  7  8  7  1]\n",
      " [ 8 10  4  9  3  8  7 11  7 10  3  9]\n",
      " [ 0  2  8  4  1 11 10  0  2  2  8  7]\n",
      " [ 5  5  8  4  7  7  0  8  1  1 10  4]\n",
      " [ 3  2  2  9  3  9 11 10  6  4  1  3]\n",
      " [ 8 11  4  8  4  5  2  3  9 10 10  3]\n",
      " [11  1  2 10  1  0  3  5  6  8  2  2]\n",
      " [ 3  6  6  1 11  6  3  3  4  2  0  5]]\n"
     ]
    }
   ],
   "source": [
    "x=int(input('Enter the order of the determinant'))\n",
    "arr=np.empty([x,x],dtype=np.int64)                       # creating an array (homogenous array) of order x rows and x columns\n",
    "for i in range(x):\n",
    "    arr[i]=[int(random.randrange(0,x,1)) for i in range(x)]  # filling all the elements of the 2D array with random numbers\n",
    "print(arr)"
   ]
  },
  {
   "cell_type": "code",
   "execution_count": null,
   "metadata": {},
   "outputs": [],
   "source": []
  }
 ],
 "metadata": {
  "kernelspec": {
   "display_name": "Python 3",
   "language": "python",
   "name": "python3"
  },
  "language_info": {
   "codemirror_mode": {
    "name": "ipython",
    "version": 3
   },
   "file_extension": ".py",
   "mimetype": "text/x-python",
   "name": "python",
   "nbconvert_exporter": "python",
   "pygments_lexer": "ipython3",
   "version": "3.7.6"
  }
 },
 "nbformat": 4,
 "nbformat_minor": 4
}
